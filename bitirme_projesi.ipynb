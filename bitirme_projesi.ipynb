{
 "cells": [
  {
   "cell_type": "markdown",
   "metadata": {},
   "source": [
    "📊 🌸 **Welcome to my movies data analysis presentation** 🌸 📊"
   ]
  },
  {
   "cell_type": "markdown",
   "metadata": {},
   "source": [
    "**Yapılacak Analizler** 📈\n",
    "1. Ülkelere göre çekilen film sayısı.\n",
    "2. Aktörlerin oynadığı film sayısı.\n",
    "3. Aktörlerin oynadığı film türleri.\n",
    "4. Ülkelere göre hangi tür filmlerin çekildiği.\n",
    "5. Türe göre kadın-erkek aktör sayısı."
   ]
  },
  {
   "cell_type": "markdown",
   "metadata": {},
   "source": [
    "**Veriyi Anlama ve Hazırlama**"
   ]
  },
  {
   "cell_type": "code",
   "execution_count": 1,
   "metadata": {},
   "outputs": [],
   "source": [
    "# Gerekli import işlemlerini gerçekleştiriyorum. \n",
    "\n",
    "import seaborn as sns #Python'da ilgi çekici ve bilgilendirici istatistiksel grafikler yapmak için kullanılan bir kütüphane\n",
    "import pandas as pd #veri işlemesi ve analizi için Python programlama dilinde yazılmış olan bir yazılım kütüphanesi\n",
    "import matplotlib.pyplot as plt #python programlama dilinde 2D grafikler için kullanılan bir çizim kitaplığı\n"
   ]
  },
  {
   "cell_type": "markdown",
   "metadata": {},
   "source": [
    "**Veri Setlerimi Okuyorum**"
   ]
  },
  {
   "cell_type": "code",
   "execution_count": 7,
   "metadata": {},
   "outputs": [],
   "source": [
    "actors = pd.read_csv(\"actors.csv\")\n",
    "countries = pd.read_csv(\"countries.csv\")\n",
    "genres = pd.read_csv(\"genres.csv\")\n",
    "languages = pd.read_csv(\"languages.csv\")\n",
    "movies = pd.read_csv(\"movies.csv\")\n",
    "prodcompanies = pd.read_csv(\"prodcompanies.csv\")\n",
    "ratings = pd.read_csv(\"ratings.csv\")\n",
    "moviesactors= pd.read_csv(\"moviesactors.csv\", on_bad_lines='skip')"
   ]
  },
  {
   "cell_type": "markdown",
   "metadata": {},
   "source": [
    "'.shape' ile verimin boyutunu öğreniyorum."
   ]
  },
  {
   "cell_type": "code",
   "execution_count": 8,
   "metadata": {},
   "outputs": [
    {
     "name": "stdout",
     "output_type": "stream",
     "text": [
      "Actors veri setimde 98690 adet satır, 3 adet sütun bulunmakta\n"
     ]
    }
   ],
   "source": [
    "actors.shape\n",
    "print(f\"Actors veri setimde {actors.shape[0]} adet satır, {actors.shape[1]} adet sütun bulunmakta\")"
   ]
  },
  {
   "cell_type": "markdown",
   "metadata": {},
   "source": [
    "Actors veri seti; actorsid, isim ve cinsiyet hakkında bilgi içeriyor.."
   ]
  },
  {
   "cell_type": "code",
   "execution_count": 10,
   "metadata": {},
   "outputs": [
    {
     "name": "stdout",
     "output_type": "stream",
     "text": [
      "Countries veri setimde 5007 adet satır, 2 adet sütun bulunmakta\n"
     ]
    }
   ],
   "source": [
    "countries.shape\n",
    "print(f\"Countries veri setimde {countries.shape[0]} adet satır, {countries.shape[1]} adet sütun bulunmakta\")"
   ]
  },
  {
   "cell_type": "markdown",
   "metadata": {},
   "source": [
    "Countries veri seti; movieid ve ülkeler hakkında bilgi içeriyor."
   ]
  },
  {
   "cell_type": "code",
   "execution_count": 11,
   "metadata": {},
   "outputs": [
    {
     "name": "stdout",
     "output_type": "stream",
     "text": [
      "Genres veri setimde 9940 adet satır, 2 adet sütun bulunmakta\n"
     ]
    }
   ],
   "source": [
    "genres.shape\n",
    "print(f\"Genres veri setimde {genres.shape[0]} adet satır, {genres.shape[1]} adet sütun bulunmakta\")"
   ]
  },
  {
   "cell_type": "markdown",
   "metadata": {},
   "source": [
    "Genre veri seti; movieid ve film türleri hakkında bilgi içeriyor."
   ]
  },
  {
   "cell_type": "code",
   "execution_count": 12,
   "metadata": {},
   "outputs": [
    {
     "name": "stdout",
     "output_type": "stream",
     "text": [
      "Languages veri setimde 4976 adet satır, 2 adet sütun bulunmakta\n"
     ]
    }
   ],
   "source": [
    "languages.shape\n",
    "print(f\"Languages veri setimde {languages.shape[0]} adet satır, {languages.shape[1]} adet sütun bulunmakta\")"
   ]
  },
  {
   "cell_type": "markdown",
   "metadata": {},
   "source": [
    "Languages veri setinde; movieid ve diller yer alıyor.\n"
   ]
  },
  {
   "cell_type": "code",
   "execution_count": 13,
   "metadata": {},
   "outputs": [
    {
     "name": "stdout",
     "output_type": "stream",
     "text": [
      "Movies  veri setimde 3832 adet satır, 3 adet sütun bulunmakta\n"
     ]
    }
   ],
   "source": [
    "movies .shape\n",
    "print(f\"Movies  veri setimde {movies .shape[0]} adet satır, {movies .shape[1]} adet sütun bulunmakta\")"
   ]
  },
  {
   "cell_type": "markdown",
   "metadata": {},
   "source": [
    "Movies veri seti; movieid, başlık ve yıl hakkında bilgi içeriyor."
   ]
  },
  {
   "cell_type": "code",
   "execution_count": 14,
   "metadata": {},
   "outputs": [
    {
     "name": "stdout",
     "output_type": "stream",
     "text": [
      "Prodcompanies  veri setimde 9843 adet satır, 2 adet sütun bulunmakta\n"
     ]
    }
   ],
   "source": [
    "prodcompanies .shape\n",
    "print(f\"Prodcompanies  veri setimde {prodcompanies .shape[0]} adet satır, {prodcompanies .shape[1]} adet sütun bulunmakta\")"
   ]
  },
  {
   "cell_type": "markdown",
   "metadata": {},
   "source": [
    "Prodcompanies veri seti; movieid ve isim içeriyor. (Profesyonel, ürün şirketlerinin adlarını içeriyor.)"
   ]
  },
  {
   "cell_type": "code",
   "execution_count": 15,
   "metadata": {},
   "outputs": [
    {
     "name": "stdout",
     "output_type": "stream",
     "text": [
      "Ratings  veri setimde 3773 adet satır, 4 adet sütun bulunmakta\n"
     ]
    }
   ],
   "source": [
    "ratings  .shape\n",
    "print(f\"Ratings  veri setimde {ratings .shape[0]} adet satır, {ratings  .shape[1]} adet sütun bulunmakta\")"
   ]
  },
  {
   "cell_type": "markdown",
   "metadata": {},
   "source": [
    "Ratings veri seti; movieid, derece(rank), oylar ve dağılım hakkında bilgi içeriyor."
   ]
  },
  {
   "cell_type": "code",
   "execution_count": 16,
   "metadata": {},
   "outputs": [
    {
     "name": "stdout",
     "output_type": "stream",
     "text": [
      "Moviesactors  veri setimde 138343 adet satır, 4 adet sütun bulunmakta\n"
     ]
    }
   ],
   "source": [
    "moviesactors  .shape\n",
    "print(f\"Moviesactors  veri setimde {moviesactors .shape[0]} adet satır, {moviesactors  .shape[1]} adet sütun bulunmakta\") "
   ]
  },
  {
   "cell_type": "markdown",
   "metadata": {},
   "source": [
    "Moviesactors veri seti; movieid, actorid, as_character ve leading hakkında bilgi içeriyor."
   ]
  },
  {
   "cell_type": "markdown",
   "metadata": {},
   "source": [
    "**Bazı veri setlerin data typelarına bakarak veri ve sütun başlıkları hakkında bilgi edinelim.**"
   ]
  },
  {
   "cell_type": "code",
   "execution_count": 17,
   "metadata": {},
   "outputs": [
    {
     "data": {
      "text/plain": [
       "actorid     int64\n",
       "name       object\n",
       "sex        object\n",
       "dtype: object"
      ]
     },
     "execution_count": 17,
     "metadata": {},
     "output_type": "execute_result"
    }
   ],
   "source": [
    "actors.dtypes #.dtypes ile sütunun typenı inceleyebiliriz."
   ]
  },
  {
   "cell_type": "code",
   "execution_count": 18,
   "metadata": {},
   "outputs": [
    {
     "data": {
      "text/plain": [
       "movieid     int64\n",
       "country    object\n",
       "dtype: object"
      ]
     },
     "execution_count": 18,
     "metadata": {},
     "output_type": "execute_result"
    }
   ],
   "source": [
    "countries.dtypes "
   ]
  },
  {
   "cell_type": "code",
   "execution_count": 20,
   "metadata": {},
   "outputs": [
    {
     "data": {
      "text/plain": [
       "movieid           int64\n",
       "rank            float64\n",
       "votes           float64\n",
       "distribution     object\n",
       "dtype: object"
      ]
     },
     "execution_count": 20,
     "metadata": {},
     "output_type": "execute_result"
    }
   ],
   "source": [
    "ratings.dtypes"
   ]
  },
  {
   "cell_type": "markdown",
   "metadata": {},
   "source": [
    "**Şimdi, ' .info() ' ile bilgiler edinerek NaN değerlere bakacağız. NaN: Not A Number, 'sayısal olmayan değer' anlamına gelir.**"
   ]
  },
  {
   "cell_type": "code",
   "execution_count": 21,
   "metadata": {},
   "outputs": [
    {
     "name": "stdout",
     "output_type": "stream",
     "text": [
      "<class 'pandas.core.frame.DataFrame'>\n",
      "RangeIndex: 98690 entries, 0 to 98689\n",
      "Data columns (total 3 columns):\n",
      " #   Column   Non-Null Count  Dtype \n",
      "---  ------   --------------  ----- \n",
      " 0   actorid  98690 non-null  int64 \n",
      " 1   name     98690 non-null  object\n",
      " 2   sex      98690 non-null  object\n",
      "dtypes: int64(1), object(2)\n",
      "memory usage: 2.3+ MB\n"
     ]
    }
   ],
   "source": [
    "actors.info()"
   ]
  },
  {
   "cell_type": "markdown",
   "metadata": {},
   "source": [
    "Yukarıda görüldüğü üzere actors veri setinde NaN değer yok."
   ]
  },
  {
   "cell_type": "code",
   "execution_count": 22,
   "metadata": {},
   "outputs": [
    {
     "name": "stdout",
     "output_type": "stream",
     "text": [
      "<class 'pandas.core.frame.DataFrame'>\n",
      "RangeIndex: 5007 entries, 0 to 5006\n",
      "Data columns (total 2 columns):\n",
      " #   Column   Non-Null Count  Dtype \n",
      "---  ------   --------------  ----- \n",
      " 0   movieid  5007 non-null   int64 \n",
      " 1   country  5007 non-null   object\n",
      "dtypes: int64(1), object(1)\n",
      "memory usage: 78.4+ KB\n"
     ]
    }
   ],
   "source": [
    "countries.info()  #NaN değer yok"
   ]
  },
  {
   "cell_type": "code",
   "execution_count": 23,
   "metadata": {},
   "outputs": [
    {
     "name": "stdout",
     "output_type": "stream",
     "text": [
      "<class 'pandas.core.frame.DataFrame'>\n",
      "RangeIndex: 9940 entries, 0 to 9939\n",
      "Data columns (total 2 columns):\n",
      " #   Column   Non-Null Count  Dtype \n",
      "---  ------   --------------  ----- \n",
      " 0   movieid  9940 non-null   int64 \n",
      " 1   genre    9940 non-null   object\n",
      "dtypes: int64(1), object(1)\n",
      "memory usage: 155.4+ KB\n"
     ]
    }
   ],
   "source": [
    "genres.info() #NaN değer yok"
   ]
  },
  {
   "cell_type": "code",
   "execution_count": 24,
   "metadata": {},
   "outputs": [
    {
     "name": "stdout",
     "output_type": "stream",
     "text": [
      "<class 'pandas.core.frame.DataFrame'>\n",
      "RangeIndex: 4976 entries, 0 to 4975\n",
      "Data columns (total 2 columns):\n",
      " #   Column    Non-Null Count  Dtype \n",
      "---  ------    --------------  ----- \n",
      " 0   movieid   4976 non-null   int64 \n",
      " 1   language  4976 non-null   object\n",
      "dtypes: int64(1), object(1)\n",
      "memory usage: 77.9+ KB\n"
     ]
    }
   ],
   "source": [
    "languages.info() #NaN değer yok"
   ]
  },
  {
   "cell_type": "code",
   "execution_count": 25,
   "metadata": {},
   "outputs": [
    {
     "name": "stdout",
     "output_type": "stream",
     "text": [
      "<class 'pandas.core.frame.DataFrame'>\n",
      "RangeIndex: 3832 entries, 0 to 3831\n",
      "Data columns (total 3 columns):\n",
      " #   Column   Non-Null Count  Dtype \n",
      "---  ------   --------------  ----- \n",
      " 0   movieid  3832 non-null   int64 \n",
      " 1   title    3832 non-null   object\n",
      " 2   year     3832 non-null   int64 \n",
      "dtypes: int64(2), object(1)\n",
      "memory usage: 89.9+ KB\n"
     ]
    }
   ],
   "source": [
    "movies.info()  #NaN değer yok"
   ]
  },
  {
   "cell_type": "code",
   "execution_count": 26,
   "metadata": {},
   "outputs": [
    {
     "name": "stdout",
     "output_type": "stream",
     "text": [
      "<class 'pandas.core.frame.DataFrame'>\n",
      "RangeIndex: 138343 entries, 0 to 138342\n",
      "Data columns (total 4 columns):\n",
      " #   Column        Non-Null Count   Dtype  \n",
      "---  ------        --------------   -----  \n",
      " 0   movieid       138343 non-null  int64  \n",
      " 1   actorid       138343 non-null  int64  \n",
      " 2   as_character  137486 non-null  object \n",
      " 3   leading       138287 non-null  float64\n",
      "dtypes: float64(1), int64(2), object(1)\n",
      "memory usage: 4.2+ MB\n"
     ]
    }
   ],
   "source": [
    "moviesactors.info() "
   ]
  },
  {
   "cell_type": "markdown",
   "metadata": {},
   "source": [
    "Yukardaki data setinde, as_character ve leading sütunlarında NaN değerler olduğunu görüyoruz."
   ]
  },
  {
   "cell_type": "code",
   "execution_count": 27,
   "metadata": {},
   "outputs": [
    {
     "name": "stdout",
     "output_type": "stream",
     "text": [
      "<class 'pandas.core.frame.DataFrame'>\n",
      "RangeIndex: 9843 entries, 0 to 9842\n",
      "Data columns (total 2 columns):\n",
      " #   Column   Non-Null Count  Dtype \n",
      "---  ------   --------------  ----- \n",
      " 0   movieid  9843 non-null   int64 \n",
      " 1   name     9843 non-null   object\n",
      "dtypes: int64(1), object(1)\n",
      "memory usage: 153.9+ KB\n"
     ]
    }
   ],
   "source": [
    "prodcompanies.info() #NaN değer yok"
   ]
  },
  {
   "cell_type": "code",
   "execution_count": 28,
   "metadata": {},
   "outputs": [
    {
     "name": "stdout",
     "output_type": "stream",
     "text": [
      "<class 'pandas.core.frame.DataFrame'>\n",
      "RangeIndex: 3773 entries, 0 to 3772\n",
      "Data columns (total 4 columns):\n",
      " #   Column        Non-Null Count  Dtype  \n",
      "---  ------        --------------  -----  \n",
      " 0   movieid       3773 non-null   int64  \n",
      " 1   rank          3773 non-null   float64\n",
      " 2   votes         3771 non-null   float64\n",
      " 3   distribution  3771 non-null   object \n",
      "dtypes: float64(2), int64(1), object(1)\n",
      "memory usage: 118.0+ KB\n"
     ]
    }
   ],
   "source": [
    "ratings.info()"
   ]
  },
  {
   "cell_type": "markdown",
   "metadata": {},
   "source": [
    "Ratings data setinde, votes ve distribution sütunlarında NaN değerler olduğunu görüyoruz."
   ]
  },
  {
   "cell_type": "markdown",
   "metadata": {},
   "source": [
    "**Şimdi Moviesactors veri seti dışındaki veri setlerinin sütunlarında yer alan NaN değerlerin kaç tane olduğu ve NaN değerlerin o sütundaki değerlerin yüzde kaçını oluşturduğuna göz atalım**"
   ]
  },
  {
   "cell_type": "code",
   "execution_count": 30,
   "metadata": {},
   "outputs": [
    {
     "data": {
      "text/html": [
       "<div>\n",
       "<style scoped>\n",
       "    .dataframe tbody tr th:only-of-type {\n",
       "        vertical-align: middle;\n",
       "    }\n",
       "\n",
       "    .dataframe tbody tr th {\n",
       "        vertical-align: top;\n",
       "    }\n",
       "\n",
       "    .dataframe thead th {\n",
       "        text-align: right;\n",
       "    }\n",
       "</style>\n",
       "<table border=\"1\" class=\"dataframe\">\n",
       "  <thead>\n",
       "    <tr style=\"text-align: right;\">\n",
       "      <th></th>\n",
       "      <th>movieid</th>\n",
       "      <th>actorid</th>\n",
       "      <th>as_character</th>\n",
       "      <th>leading</th>\n",
       "    </tr>\n",
       "  </thead>\n",
       "  <tbody>\n",
       "    <tr>\n",
       "      <th>0</th>\n",
       "      <td>False</td>\n",
       "      <td>False</td>\n",
       "      <td>False</td>\n",
       "      <td>False</td>\n",
       "    </tr>\n",
       "    <tr>\n",
       "      <th>1</th>\n",
       "      <td>False</td>\n",
       "      <td>False</td>\n",
       "      <td>False</td>\n",
       "      <td>False</td>\n",
       "    </tr>\n",
       "    <tr>\n",
       "      <th>2</th>\n",
       "      <td>False</td>\n",
       "      <td>False</td>\n",
       "      <td>False</td>\n",
       "      <td>False</td>\n",
       "    </tr>\n",
       "    <tr>\n",
       "      <th>3</th>\n",
       "      <td>False</td>\n",
       "      <td>False</td>\n",
       "      <td>False</td>\n",
       "      <td>False</td>\n",
       "    </tr>\n",
       "    <tr>\n",
       "      <th>4</th>\n",
       "      <td>False</td>\n",
       "      <td>False</td>\n",
       "      <td>False</td>\n",
       "      <td>False</td>\n",
       "    </tr>\n",
       "    <tr>\n",
       "      <th>...</th>\n",
       "      <td>...</td>\n",
       "      <td>...</td>\n",
       "      <td>...</td>\n",
       "      <td>...</td>\n",
       "    </tr>\n",
       "    <tr>\n",
       "      <th>138338</th>\n",
       "      <td>False</td>\n",
       "      <td>False</td>\n",
       "      <td>False</td>\n",
       "      <td>False</td>\n",
       "    </tr>\n",
       "    <tr>\n",
       "      <th>138339</th>\n",
       "      <td>False</td>\n",
       "      <td>False</td>\n",
       "      <td>False</td>\n",
       "      <td>False</td>\n",
       "    </tr>\n",
       "    <tr>\n",
       "      <th>138340</th>\n",
       "      <td>False</td>\n",
       "      <td>False</td>\n",
       "      <td>False</td>\n",
       "      <td>False</td>\n",
       "    </tr>\n",
       "    <tr>\n",
       "      <th>138341</th>\n",
       "      <td>False</td>\n",
       "      <td>False</td>\n",
       "      <td>False</td>\n",
       "      <td>False</td>\n",
       "    </tr>\n",
       "    <tr>\n",
       "      <th>138342</th>\n",
       "      <td>False</td>\n",
       "      <td>False</td>\n",
       "      <td>False</td>\n",
       "      <td>False</td>\n",
       "    </tr>\n",
       "  </tbody>\n",
       "</table>\n",
       "<p>138343 rows × 4 columns</p>\n",
       "</div>"
      ],
      "text/plain": [
       "        movieid  actorid  as_character  leading\n",
       "0         False    False         False    False\n",
       "1         False    False         False    False\n",
       "2         False    False         False    False\n",
       "3         False    False         False    False\n",
       "4         False    False         False    False\n",
       "...         ...      ...           ...      ...\n",
       "138338    False    False         False    False\n",
       "138339    False    False         False    False\n",
       "138340    False    False         False    False\n",
       "138341    False    False         False    False\n",
       "138342    False    False         False    False\n",
       "\n",
       "[138343 rows x 4 columns]"
      ]
     },
     "execution_count": 30,
     "metadata": {},
     "output_type": "execute_result"
    }
   ],
   "source": [
    "moviesactors.isna() #False ve True değerleri görebiliyoruz."
   ]
  },
  {
   "cell_type": "code",
   "execution_count": 31,
   "metadata": {},
   "outputs": [
    {
     "data": {
      "text/plain": [
       "movieid           0\n",
       "actorid           0\n",
       "as_character    857\n",
       "leading          56\n",
       "dtype: int64"
      ]
     },
     "execution_count": 31,
     "metadata": {},
     "output_type": "execute_result"
    }
   ],
   "source": [
    "moviesactors.isna().sum()"
   ]
  },
  {
   "cell_type": "code",
   "execution_count": 33,
   "metadata": {},
   "outputs": [
    {
     "data": {
      "text/plain": [
       "913"
      ]
     },
     "execution_count": 33,
     "metadata": {},
     "output_type": "execute_result"
    }
   ],
   "source": [
    "moviesactors.isna().sum().sum() #bu şekilde toplam kaybı öğrenmiş olduk"
   ]
  },
  {
   "cell_type": "code",
   "execution_count": 34,
   "metadata": {},
   "outputs": [
    {
     "data": {
      "text/plain": [
       "movieid         0.000000\n",
       "actorid         0.000000\n",
       "as_character    0.619475\n",
       "leading         0.040479\n",
       "dtype: float64"
      ]
     },
     "execution_count": 34,
     "metadata": {},
     "output_type": "execute_result"
    }
   ],
   "source": [
    "moviesactors.isna().sum() / moviesactors.shape[0] *100 # NaN değerlerin o sütunların yüzde kaçını oluşturduğunu görmüş olduk."
   ]
  },
  {
   "cell_type": "code",
   "execution_count": 469,
   "metadata": {},
   "outputs": [
    {
     "data": {
      "text/plain": [
       "(137430, 4)"
      ]
     },
     "execution_count": 469,
     "metadata": {},
     "output_type": "execute_result"
    }
   ],
   "source": [
    "moviesactors.dropna(inplace=True) #eksik verilerin dropna methoduyla veri setinden kaldırılması\n",
    "moviesactors.shape"
   ]
  },
  {
   "cell_type": "code",
   "execution_count": 475,
   "metadata": {},
   "outputs": [
    {
     "data": {
      "text/plain": [
       "(137430, 4)"
      ]
     },
     "execution_count": 475,
     "metadata": {},
     "output_type": "execute_result"
    }
   ],
   "source": [
    "moviesactors_prepared = moviesactors.dropna(how='any')  #herhangi bir satırda NaN değeri varsa o satırı siler\n",
    "moviesactors_prepared .shape \n",
    "#görüldüğü gibi moviesactors kısmındaki NaN değerleri sildik. Verimizin boyutu azaldı."
   ]
  },
  {
   "cell_type": "code",
   "execution_count": 470,
   "metadata": {},
   "outputs": [
    {
     "data": {
      "text/plain": [
       "0"
      ]
     },
     "execution_count": 470,
     "metadata": {},
     "output_type": "execute_result"
    }
   ],
   "source": [
    "#Eksik veri var mı diye yeniden kontrol ediyorum.\n",
    "moviesactors.isnull().sum().sum() #veri setindeki toplam eksik verileri görmemizi sağlar."
   ]
  },
  {
   "cell_type": "code",
   "execution_count": 36,
   "metadata": {},
   "outputs": [
    {
     "data": {
      "text/plain": [
       "movieid         0\n",
       "rank            0\n",
       "votes           2\n",
       "distribution    2\n",
       "dtype: int64"
      ]
     },
     "execution_count": 36,
     "metadata": {},
     "output_type": "execute_result"
    }
   ],
   "source": [
    "ratings.isna().sum() #kaybı öğrendik."
   ]
  },
  {
   "cell_type": "code",
   "execution_count": 38,
   "metadata": {},
   "outputs": [
    {
     "data": {
      "text/plain": [
       "4"
      ]
     },
     "execution_count": 38,
     "metadata": {},
     "output_type": "execute_result"
    }
   ],
   "source": [
    "ratings.isna().sum().sum() #Toplam kaybımız 4."
   ]
  },
  {
   "cell_type": "code",
   "execution_count": 39,
   "metadata": {},
   "outputs": [
    {
     "data": {
      "text/plain": [
       "movieid         0.000000\n",
       "rank            0.000000\n",
       "votes           0.053008\n",
       "distribution    0.053008\n",
       "dtype: float64"
      ]
     },
     "execution_count": 39,
     "metadata": {},
     "output_type": "execute_result"
    }
   ],
   "source": [
    "ratings.isna().sum() / ratings.shape[0] *100 # NaN değerlerin o sütunların yüzde kaçını oluşturduğunu görmüş olduk."
   ]
  },
  {
   "cell_type": "code",
   "execution_count": 472,
   "metadata": {},
   "outputs": [
    {
     "data": {
      "text/plain": [
       "(3771, 4)"
      ]
     },
     "execution_count": 472,
     "metadata": {},
     "output_type": "execute_result"
    }
   ],
   "source": [
    "ratings.dropna(inplace=True) #eksik verilerin dropna methoduyla veri setinden kaldırılması\n",
    "ratings.shape"
   ]
  },
  {
   "cell_type": "code",
   "execution_count": 473,
   "metadata": {},
   "outputs": [
    {
     "data": {
      "text/plain": [
       "0"
      ]
     },
     "execution_count": 473,
     "metadata": {},
     "output_type": "execute_result"
    }
   ],
   "source": [
    "#Eksik veri var mı diye yeniden kontrol ediyorum.\n",
    "moviesactors.isnull().sum().sum() #veri setindeki toplam eksik verileri görmemizi sağlar."
   ]
  },
  {
   "cell_type": "code",
   "execution_count": 45,
   "metadata": {},
   "outputs": [
    {
     "data": {
      "text/html": [
       "<div>\n",
       "<style scoped>\n",
       "    .dataframe tbody tr th:only-of-type {\n",
       "        vertical-align: middle;\n",
       "    }\n",
       "\n",
       "    .dataframe tbody tr th {\n",
       "        vertical-align: top;\n",
       "    }\n",
       "\n",
       "    .dataframe thead th {\n",
       "        text-align: right;\n",
       "    }\n",
       "</style>\n",
       "<table border=\"1\" class=\"dataframe\">\n",
       "  <thead>\n",
       "    <tr style=\"text-align: right;\">\n",
       "      <th></th>\n",
       "      <th>actorid</th>\n",
       "    </tr>\n",
       "  </thead>\n",
       "  <tbody>\n",
       "    <tr>\n",
       "      <th>count</th>\n",
       "      <td>9.869000e+04</td>\n",
       "    </tr>\n",
       "    <tr>\n",
       "      <th>mean</th>\n",
       "      <td>1.333952e+06</td>\n",
       "    </tr>\n",
       "    <tr>\n",
       "      <th>std</th>\n",
       "      <td>7.881849e+05</td>\n",
       "    </tr>\n",
       "    <tr>\n",
       "      <th>min</th>\n",
       "      <td>4.000000e+00</td>\n",
       "    </tr>\n",
       "    <tr>\n",
       "      <th>25%</th>\n",
       "      <td>6.420115e+05</td>\n",
       "    </tr>\n",
       "    <tr>\n",
       "      <th>50%</th>\n",
       "      <td>1.315982e+06</td>\n",
       "    </tr>\n",
       "    <tr>\n",
       "      <th>75%</th>\n",
       "      <td>2.005110e+06</td>\n",
       "    </tr>\n",
       "    <tr>\n",
       "      <th>max</th>\n",
       "      <td>2.749386e+06</td>\n",
       "    </tr>\n",
       "  </tbody>\n",
       "</table>\n",
       "</div>"
      ],
      "text/plain": [
       "            actorid\n",
       "count  9.869000e+04\n",
       "mean   1.333952e+06\n",
       "std    7.881849e+05\n",
       "min    4.000000e+00\n",
       "25%    6.420115e+05\n",
       "50%    1.315982e+06\n",
       "75%    2.005110e+06\n",
       "max    2.749386e+06"
      ]
     },
     "execution_count": 45,
     "metadata": {},
     "output_type": "execute_result"
    }
   ],
   "source": [
    "actors.describe() \n"
   ]
  },
  {
   "cell_type": "markdown",
   "metadata": {},
   "source": [
    "count - Boş olmayan değerlerin sayısı\n",
    "\n",
    "mean - Ortalama değer\n",
    "\n",
    "std - Standart sapma\n",
    "\n",
    "min - Minimum değer\n",
    "\n",
    " Yüzdelik dilim anlamı: değerlerin kaç tanesi verilen yüzdelik dilimden daha azdır\n",
    "max - maksimum değer\n"
   ]
  },
  {
   "cell_type": "code",
   "execution_count": 47,
   "metadata": {},
   "outputs": [
    {
     "data": {
      "text/html": [
       "<div>\n",
       "<style scoped>\n",
       "    .dataframe tbody tr th:only-of-type {\n",
       "        vertical-align: middle;\n",
       "    }\n",
       "\n",
       "    .dataframe tbody tr th {\n",
       "        vertical-align: top;\n",
       "    }\n",
       "\n",
       "    .dataframe thead th {\n",
       "        text-align: right;\n",
       "    }\n",
       "</style>\n",
       "<table border=\"1\" class=\"dataframe\">\n",
       "  <thead>\n",
       "    <tr style=\"text-align: right;\">\n",
       "      <th></th>\n",
       "      <th>movieid</th>\n",
       "      <th>rank</th>\n",
       "      <th>votes</th>\n",
       "    </tr>\n",
       "  </thead>\n",
       "  <tbody>\n",
       "    <tr>\n",
       "      <th>count</th>\n",
       "      <td>3.773000e+03</td>\n",
       "      <td>3773.000000</td>\n",
       "      <td>3771.000000</td>\n",
       "    </tr>\n",
       "    <tr>\n",
       "      <th>mean</th>\n",
       "      <td>2.153232e+06</td>\n",
       "      <td>6.402968</td>\n",
       "      <td>27718.726863</td>\n",
       "    </tr>\n",
       "    <tr>\n",
       "      <th>std</th>\n",
       "      <td>2.692526e+05</td>\n",
       "      <td>1.139101</td>\n",
       "      <td>63563.550897</td>\n",
       "    </tr>\n",
       "    <tr>\n",
       "      <th>min</th>\n",
       "      <td>1.672052e+06</td>\n",
       "      <td>1.800000</td>\n",
       "      <td>5.000000</td>\n",
       "    </tr>\n",
       "    <tr>\n",
       "      <th>25%</th>\n",
       "      <td>1.925449e+06</td>\n",
       "      <td>5.700000</td>\n",
       "      <td>1801.500000</td>\n",
       "    </tr>\n",
       "    <tr>\n",
       "      <th>50%</th>\n",
       "      <td>2.173331e+06</td>\n",
       "      <td>6.500000</td>\n",
       "      <td>6938.000000</td>\n",
       "    </tr>\n",
       "    <tr>\n",
       "      <th>75%</th>\n",
       "      <td>2.411215e+06</td>\n",
       "      <td>7.200000</td>\n",
       "      <td>25559.000000</td>\n",
       "    </tr>\n",
       "    <tr>\n",
       "      <th>max</th>\n",
       "      <td>2.593313e+06</td>\n",
       "      <td>9.300000</td>\n",
       "      <td>998823.000000</td>\n",
       "    </tr>\n",
       "  </tbody>\n",
       "</table>\n",
       "</div>"
      ],
      "text/plain": [
       "            movieid         rank          votes\n",
       "count  3.773000e+03  3773.000000    3771.000000\n",
       "mean   2.153232e+06     6.402968   27718.726863\n",
       "std    2.692526e+05     1.139101   63563.550897\n",
       "min    1.672052e+06     1.800000       5.000000\n",
       "25%    1.925449e+06     5.700000    1801.500000\n",
       "50%    2.173331e+06     6.500000    6938.000000\n",
       "75%    2.411215e+06     7.200000   25559.000000\n",
       "max    2.593313e+06     9.300000  998823.000000"
      ]
     },
     "execution_count": 47,
     "metadata": {},
     "output_type": "execute_result"
    }
   ],
   "source": [
    "ratings.describe()"
   ]
  },
  {
   "cell_type": "markdown",
   "metadata": {},
   "source": [
    "**' .head() ' ile görselleştirme yaparak veri setindeki ilk 5 veriyi görebiliriz.**"
   ]
  },
  {
   "cell_type": "code",
   "execution_count": 100,
   "metadata": {},
   "outputs": [
    {
     "data": {
      "text/html": [
       "<div>\n",
       "<style scoped>\n",
       "    .dataframe tbody tr th:only-of-type {\n",
       "        vertical-align: middle;\n",
       "    }\n",
       "\n",
       "    .dataframe tbody tr th {\n",
       "        vertical-align: top;\n",
       "    }\n",
       "\n",
       "    .dataframe thead th {\n",
       "        text-align: right;\n",
       "    }\n",
       "</style>\n",
       "<table border=\"1\" class=\"dataframe\">\n",
       "  <thead>\n",
       "    <tr style=\"text-align: right;\">\n",
       "      <th></th>\n",
       "      <th>movieid</th>\n",
       "      <th>country</th>\n",
       "    </tr>\n",
       "  </thead>\n",
       "  <tbody>\n",
       "    <tr>\n",
       "      <th>0</th>\n",
       "      <td>1672052</td>\n",
       "      <td>Australia</td>\n",
       "    </tr>\n",
       "    <tr>\n",
       "      <th>1</th>\n",
       "      <td>1672111</td>\n",
       "      <td>Australia</td>\n",
       "    </tr>\n",
       "    <tr>\n",
       "      <th>2</th>\n",
       "      <td>1672111</td>\n",
       "      <td>USA</td>\n",
       "    </tr>\n",
       "    <tr>\n",
       "      <th>3</th>\n",
       "      <td>1672580</td>\n",
       "      <td>USA</td>\n",
       "    </tr>\n",
       "    <tr>\n",
       "      <th>4</th>\n",
       "      <td>1672716</td>\n",
       "      <td>USA</td>\n",
       "    </tr>\n",
       "  </tbody>\n",
       "</table>\n",
       "</div>"
      ],
      "text/plain": [
       "   movieid    country\n",
       "0  1672052  Australia\n",
       "1  1672111  Australia\n",
       "2  1672111        USA\n",
       "3  1672580        USA\n",
       "4  1672716        USA"
      ]
     },
     "execution_count": 100,
     "metadata": {},
     "output_type": "execute_result"
    }
   ],
   "source": [
    "countries.head() "
   ]
  },
  {
   "cell_type": "code",
   "execution_count": 51,
   "metadata": {},
   "outputs": [
    {
     "data": {
      "text/html": [
       "<div>\n",
       "<style scoped>\n",
       "    .dataframe tbody tr th:only-of-type {\n",
       "        vertical-align: middle;\n",
       "    }\n",
       "\n",
       "    .dataframe tbody tr th {\n",
       "        vertical-align: top;\n",
       "    }\n",
       "\n",
       "    .dataframe thead th {\n",
       "        text-align: right;\n",
       "    }\n",
       "</style>\n",
       "<table border=\"1\" class=\"dataframe\">\n",
       "  <thead>\n",
       "    <tr style=\"text-align: right;\">\n",
       "      <th></th>\n",
       "      <th>movieid</th>\n",
       "      <th>name</th>\n",
       "    </tr>\n",
       "  </thead>\n",
       "  <tbody>\n",
       "    <tr>\n",
       "      <th>0</th>\n",
       "      <td>1672052</td>\n",
       "      <td>7 Network [au]</td>\n",
       "    </tr>\n",
       "    <tr>\n",
       "      <th>1</th>\n",
       "      <td>1672052</td>\n",
       "      <td>Australian Film Commission, The [au]</td>\n",
       "    </tr>\n",
       "  </tbody>\n",
       "</table>\n",
       "</div>"
      ],
      "text/plain": [
       "   movieid                                  name\n",
       "0  1672052                        7 Network [au]\n",
       "1  1672052  Australian Film Commission, The [au]"
      ]
     },
     "execution_count": 51,
     "metadata": {},
     "output_type": "execute_result"
    }
   ],
   "source": [
    "prodcompanies.head(2)  #parantez içine girdiğimiz sayı kadar veri gösterir."
   ]
  },
  {
   "cell_type": "code",
   "execution_count": 79,
   "metadata": {},
   "outputs": [
    {
     "data": {
      "text/html": [
       "<div>\n",
       "<style scoped>\n",
       "    .dataframe tbody tr th:only-of-type {\n",
       "        vertical-align: middle;\n",
       "    }\n",
       "\n",
       "    .dataframe tbody tr th {\n",
       "        vertical-align: top;\n",
       "    }\n",
       "\n",
       "    .dataframe thead th {\n",
       "        text-align: right;\n",
       "    }\n",
       "</style>\n",
       "<table border=\"1\" class=\"dataframe\">\n",
       "  <thead>\n",
       "    <tr style=\"text-align: right;\">\n",
       "      <th></th>\n",
       "      <th>movieid</th>\n",
       "      <th>language</th>\n",
       "    </tr>\n",
       "  </thead>\n",
       "  <tbody>\n",
       "    <tr>\n",
       "      <th>0</th>\n",
       "      <td>1672052</td>\n",
       "      <td>Afrikaans</td>\n",
       "    </tr>\n",
       "    <tr>\n",
       "      <th>1</th>\n",
       "      <td>1672052</td>\n",
       "      <td>English</td>\n",
       "    </tr>\n",
       "    <tr>\n",
       "      <th>2</th>\n",
       "      <td>1672111</td>\n",
       "      <td>English</td>\n",
       "    </tr>\n",
       "    <tr>\n",
       "      <th>3</th>\n",
       "      <td>1672580</td>\n",
       "      <td>English</td>\n",
       "    </tr>\n",
       "    <tr>\n",
       "      <th>4</th>\n",
       "      <td>1672716</td>\n",
       "      <td>English</td>\n",
       "    </tr>\n",
       "    <tr>\n",
       "      <th>5</th>\n",
       "      <td>1672946</td>\n",
       "      <td>English</td>\n",
       "    </tr>\n",
       "    <tr>\n",
       "      <th>6</th>\n",
       "      <td>1673647</td>\n",
       "      <td>French</td>\n",
       "    </tr>\n",
       "  </tbody>\n",
       "</table>\n",
       "</div>"
      ],
      "text/plain": [
       "   movieid   language\n",
       "0  1672052  Afrikaans\n",
       "1  1672052    English\n",
       "2  1672111    English\n",
       "3  1672580    English\n",
       "4  1672716    English\n",
       "5  1672946    English\n",
       "6  1673647     French"
      ]
     },
     "execution_count": 79,
     "metadata": {},
     "output_type": "execute_result"
    }
   ],
   "source": [
    "languages.head(7)"
   ]
  },
  {
   "cell_type": "code",
   "execution_count": 57,
   "metadata": {},
   "outputs": [
    {
     "data": {
      "text/html": [
       "<div>\n",
       "<style scoped>\n",
       "    .dataframe tbody tr th:only-of-type {\n",
       "        vertical-align: middle;\n",
       "    }\n",
       "\n",
       "    .dataframe tbody tr th {\n",
       "        vertical-align: top;\n",
       "    }\n",
       "\n",
       "    .dataframe thead th {\n",
       "        text-align: right;\n",
       "    }\n",
       "</style>\n",
       "<table border=\"1\" class=\"dataframe\">\n",
       "  <thead>\n",
       "    <tr style=\"text-align: right;\">\n",
       "      <th></th>\n",
       "      <th>Film_kimliği</th>\n",
       "      <th>Sıralama</th>\n",
       "      <th>Oylar</th>\n",
       "      <th>Dağılım</th>\n",
       "    </tr>\n",
       "  </thead>\n",
       "  <tbody>\n",
       "    <tr>\n",
       "      <th>0</th>\n",
       "      <td>1672052</td>\n",
       "      <td>7.8</td>\n",
       "      <td>8111.0</td>\n",
       "      <td>0000001222</td>\n",
       "    </tr>\n",
       "    <tr>\n",
       "      <th>1</th>\n",
       "      <td>1672111</td>\n",
       "      <td>5.3</td>\n",
       "      <td>32183.0</td>\n",
       "      <td>0001221000</td>\n",
       "    </tr>\n",
       "    <tr>\n",
       "      <th>2</th>\n",
       "      <td>1672580</td>\n",
       "      <td>4.4</td>\n",
       "      <td>1894.0</td>\n",
       "      <td>0011110000</td>\n",
       "    </tr>\n",
       "    <tr>\n",
       "      <th>3</th>\n",
       "      <td>1672716</td>\n",
       "      <td>7.0</td>\n",
       "      <td>1255.0</td>\n",
       "      <td>0000001212</td>\n",
       "    </tr>\n",
       "    <tr>\n",
       "      <th>4</th>\n",
       "      <td>1673647</td>\n",
       "      <td>6.5</td>\n",
       "      <td>128.0</td>\n",
       "      <td>0000111211</td>\n",
       "    </tr>\n",
       "    <tr>\n",
       "      <th>...</th>\n",
       "      <td>...</td>\n",
       "      <td>...</td>\n",
       "      <td>...</td>\n",
       "      <td>...</td>\n",
       "    </tr>\n",
       "    <tr>\n",
       "      <th>3768</th>\n",
       "      <td>2591814</td>\n",
       "      <td>6.8</td>\n",
       "      <td>56563.0</td>\n",
       "      <td>0000012210</td>\n",
       "    </tr>\n",
       "    <tr>\n",
       "      <th>3769</th>\n",
       "      <td>2592334</td>\n",
       "      <td>6.2</td>\n",
       "      <td>36951.0</td>\n",
       "      <td>0000122100</td>\n",
       "    </tr>\n",
       "    <tr>\n",
       "      <th>3770</th>\n",
       "      <td>2592963</td>\n",
       "      <td>7.6</td>\n",
       "      <td>2294.0</td>\n",
       "      <td>0000002311</td>\n",
       "    </tr>\n",
       "    <tr>\n",
       "      <th>3771</th>\n",
       "      <td>2593112</td>\n",
       "      <td>6.9</td>\n",
       "      <td>1231.0</td>\n",
       "      <td>0000012211</td>\n",
       "    </tr>\n",
       "    <tr>\n",
       "      <th>3772</th>\n",
       "      <td>2593313</td>\n",
       "      <td>6.9</td>\n",
       "      <td>12087.0</td>\n",
       "      <td>0000013210</td>\n",
       "    </tr>\n",
       "  </tbody>\n",
       "</table>\n",
       "<p>3773 rows × 4 columns</p>\n",
       "</div>"
      ],
      "text/plain": [
       "      Film_kimliği  Sıralama    Oylar     Dağılım\n",
       "0          1672052       7.8   8111.0  0000001222\n",
       "1          1672111       5.3  32183.0  0001221000\n",
       "2          1672580       4.4   1894.0  0011110000\n",
       "3          1672716       7.0   1255.0  0000001212\n",
       "4          1673647       6.5    128.0  0000111211\n",
       "...            ...       ...      ...         ...\n",
       "3768       2591814       6.8  56563.0  0000012210\n",
       "3769       2592334       6.2  36951.0  0000122100\n",
       "3770       2592963       7.6   2294.0  0000002311\n",
       "3771       2593112       6.9   1231.0  0000012211\n",
       "3772       2593313       6.9  12087.0  0000013210\n",
       "\n",
       "[3773 rows x 4 columns]"
      ]
     },
     "execution_count": 57,
     "metadata": {},
     "output_type": "execute_result"
    }
   ],
   "source": [
    "#Sütunları yeniden adlandırdık 🚀\n",
    "ratings = ratings.rename(columns={'movieid': 'Film_kimliği','rank':'Sıralama','votes':'Oylar','distribution':'Dağılım'})\n",
    "ratings\n"
   ]
  },
  {
   "cell_type": "markdown",
   "metadata": {},
   "source": [
    "**' .tail() ' işlevi son n satırı almak için kullanılır.**"
   ]
  },
  {
   "cell_type": "code",
   "execution_count": 91,
   "metadata": {},
   "outputs": [
    {
     "data": {
      "text/html": [
       "<div>\n",
       "<style scoped>\n",
       "    .dataframe tbody tr th:only-of-type {\n",
       "        vertical-align: middle;\n",
       "    }\n",
       "\n",
       "    .dataframe tbody tr th {\n",
       "        vertical-align: top;\n",
       "    }\n",
       "\n",
       "    .dataframe thead th {\n",
       "        text-align: right;\n",
       "    }\n",
       "</style>\n",
       "<table border=\"1\" class=\"dataframe\">\n",
       "  <thead>\n",
       "    <tr style=\"text-align: right;\">\n",
       "      <th></th>\n",
       "      <th>movieid</th>\n",
       "      <th>country</th>\n",
       "    </tr>\n",
       "  </thead>\n",
       "  <tbody>\n",
       "    <tr>\n",
       "      <th>5002</th>\n",
       "      <td>2593112</td>\n",
       "      <td>Germany</td>\n",
       "    </tr>\n",
       "    <tr>\n",
       "      <th>5003</th>\n",
       "      <td>2593112</td>\n",
       "      <td>Iceland</td>\n",
       "    </tr>\n",
       "    <tr>\n",
       "      <th>5004</th>\n",
       "      <td>2593112</td>\n",
       "      <td>Japan</td>\n",
       "    </tr>\n",
       "    <tr>\n",
       "      <th>5005</th>\n",
       "      <td>2593112</td>\n",
       "      <td>USA</td>\n",
       "    </tr>\n",
       "    <tr>\n",
       "      <th>5006</th>\n",
       "      <td>2593313</td>\n",
       "      <td>Spain</td>\n",
       "    </tr>\n",
       "  </tbody>\n",
       "</table>\n",
       "</div>"
      ],
      "text/plain": [
       "      movieid  country\n",
       "5002  2593112  Germany\n",
       "5003  2593112  Iceland\n",
       "5004  2593112    Japan\n",
       "5005  2593112      USA\n",
       "5006  2593313    Spain"
      ]
     },
     "execution_count": 91,
     "metadata": {},
     "output_type": "execute_result"
    }
   ],
   "source": [
    "countries.tail()"
   ]
  },
  {
   "cell_type": "code",
   "execution_count": 93,
   "metadata": {},
   "outputs": [
    {
     "data": {
      "text/html": [
       "<div>\n",
       "<style scoped>\n",
       "    .dataframe tbody tr th:only-of-type {\n",
       "        vertical-align: middle;\n",
       "    }\n",
       "\n",
       "    .dataframe tbody tr th {\n",
       "        vertical-align: top;\n",
       "    }\n",
       "\n",
       "    .dataframe thead th {\n",
       "        text-align: right;\n",
       "    }\n",
       "</style>\n",
       "<table border=\"1\" class=\"dataframe\">\n",
       "  <thead>\n",
       "    <tr style=\"text-align: right;\">\n",
       "      <th></th>\n",
       "      <th>movieid</th>\n",
       "      <th>genre</th>\n",
       "    </tr>\n",
       "  </thead>\n",
       "  <tbody>\n",
       "    <tr>\n",
       "      <th>9937</th>\n",
       "      <td>2593313</td>\n",
       "      <td>Crime</td>\n",
       "    </tr>\n",
       "    <tr>\n",
       "      <th>9938</th>\n",
       "      <td>2593313</td>\n",
       "      <td>Drama</td>\n",
       "    </tr>\n",
       "    <tr>\n",
       "      <th>9939</th>\n",
       "      <td>2593313</td>\n",
       "      <td>Romance</td>\n",
       "    </tr>\n",
       "  </tbody>\n",
       "</table>\n",
       "</div>"
      ],
      "text/plain": [
       "      movieid    genre\n",
       "9937  2593313    Crime\n",
       "9938  2593313    Drama\n",
       "9939  2593313  Romance"
      ]
     },
     "execution_count": 93,
     "metadata": {},
     "output_type": "execute_result"
    }
   ],
   "source": [
    "genres.tail(3)"
   ]
  },
  {
   "cell_type": "code",
   "execution_count": 127,
   "metadata": {},
   "outputs": [
    {
     "data": {
      "text/plain": [
       "USA           3046\n",
       "UK             549\n",
       "France         334\n",
       "Germany        166\n",
       "Canada         131\n",
       "              ... \n",
       "Kazakhstan       1\n",
       "Chile            1\n",
       "Croatia          1\n",
       "Venezuela        1\n",
       "Lebanon          1\n",
       "Name: country, Length: 70, dtype: int64"
      ]
     },
     "execution_count": 127,
     "metadata": {},
     "output_type": "execute_result"
    }
   ],
   "source": [
    "countries['country'].value_counts() #country sütununda hangi ülkeden kaç tane olduğunu görmüş olduk."
   ]
  },
  {
   "cell_type": "code",
   "execution_count": 126,
   "metadata": {},
   "outputs": [
    {
     "data": {
      "text/plain": [
       "(70,)"
      ]
     },
     "execution_count": 126,
     "metadata": {},
     "output_type": "execute_result"
    }
   ],
   "source": [
    "countries['country'].value_counts().shape #70 farklı ülke olduğunu gördük."
   ]
  },
  {
   "cell_type": "code",
   "execution_count": 485,
   "metadata": {},
   "outputs": [
    {
     "data": {
      "text/html": [
       "<div>\n",
       "<style scoped>\n",
       "    .dataframe tbody tr th:only-of-type {\n",
       "        vertical-align: middle;\n",
       "    }\n",
       "\n",
       "    .dataframe tbody tr th {\n",
       "        vertical-align: top;\n",
       "    }\n",
       "\n",
       "    .dataframe thead th {\n",
       "        text-align: right;\n",
       "    }\n",
       "</style>\n",
       "<table border=\"1\" class=\"dataframe\">\n",
       "  <thead>\n",
       "    <tr style=\"text-align: right;\">\n",
       "      <th></th>\n",
       "      <th>movieid</th>\n",
       "      <th>country</th>\n",
       "    </tr>\n",
       "  </thead>\n",
       "  <tbody>\n",
       "    <tr>\n",
       "      <th>0</th>\n",
       "      <td>1672052</td>\n",
       "      <td>Australia</td>\n",
       "    </tr>\n",
       "    <tr>\n",
       "      <th>1</th>\n",
       "      <td>1672111</td>\n",
       "      <td>Australia</td>\n",
       "    </tr>\n",
       "    <tr>\n",
       "      <th>3</th>\n",
       "      <td>1672580</td>\n",
       "      <td>USA</td>\n",
       "    </tr>\n",
       "    <tr>\n",
       "      <th>4</th>\n",
       "      <td>1672716</td>\n",
       "      <td>USA</td>\n",
       "    </tr>\n",
       "    <tr>\n",
       "      <th>5</th>\n",
       "      <td>1672946</td>\n",
       "      <td>USA</td>\n",
       "    </tr>\n",
       "  </tbody>\n",
       "</table>\n",
       "</div>"
      ],
      "text/plain": [
       "   movieid    country\n",
       "0  1672052  Australia\n",
       "1  1672111  Australia\n",
       "3  1672580        USA\n",
       "4  1672716        USA\n",
       "5  1672946        USA"
      ]
     },
     "execution_count": 485,
     "metadata": {},
     "output_type": "execute_result"
    }
   ],
   "source": [
    "new_country = countries.drop_duplicates('movieid') #movieid si aynı olanları dropladık.\n",
    "new_country.head()"
   ]
  },
  {
   "cell_type": "code",
   "execution_count": 489,
   "metadata": {},
   "outputs": [
    {
     "data": {
      "text/html": [
       "<div>\n",
       "<style scoped>\n",
       "    .dataframe tbody tr th:only-of-type {\n",
       "        vertical-align: middle;\n",
       "    }\n",
       "\n",
       "    .dataframe tbody tr th {\n",
       "        vertical-align: top;\n",
       "    }\n",
       "\n",
       "    .dataframe thead th {\n",
       "        text-align: right;\n",
       "    }\n",
       "</style>\n",
       "<table border=\"1\" class=\"dataframe\">\n",
       "  <thead>\n",
       "    <tr style=\"text-align: right;\">\n",
       "      <th></th>\n",
       "      <th>country</th>\n",
       "      <th>title</th>\n",
       "      <th>year</th>\n",
       "    </tr>\n",
       "    <tr>\n",
       "      <th>movieid</th>\n",
       "      <th></th>\n",
       "      <th></th>\n",
       "      <th></th>\n",
       "    </tr>\n",
       "  </thead>\n",
       "  <tbody>\n",
       "    <tr>\n",
       "      <th>1672052</th>\n",
       "      <td>Australia</td>\n",
       "      <td>'Breaker' Morant (1980)</td>\n",
       "      <td>1980</td>\n",
       "    </tr>\n",
       "    <tr>\n",
       "      <th>1672111</th>\n",
       "      <td>Australia</td>\n",
       "      <td>'Crocodile' Dundee II (1988)</td>\n",
       "      <td>1988</td>\n",
       "    </tr>\n",
       "    <tr>\n",
       "      <th>1672580</th>\n",
       "      <td>USA</td>\n",
       "      <td>'Til There Was You (1997)</td>\n",
       "      <td>1997</td>\n",
       "    </tr>\n",
       "    <tr>\n",
       "      <th>1672716</th>\n",
       "      <td>USA</td>\n",
       "      <td>'night, Mother (1986)</td>\n",
       "      <td>1986</td>\n",
       "    </tr>\n",
       "    <tr>\n",
       "      <th>1672946</th>\n",
       "      <td>USA</td>\n",
       "      <td>...And Justice for All (2014)</td>\n",
       "      <td>2014</td>\n",
       "    </tr>\n",
       "  </tbody>\n",
       "</table>\n",
       "</div>"
      ],
      "text/plain": [
       "           country                          title  year\n",
       "movieid                                                \n",
       "1672052  Australia        'Breaker' Morant (1980)  1980\n",
       "1672111  Australia   'Crocodile' Dundee II (1988)  1988\n",
       "1672580        USA      'Til There Was You (1997)  1997\n",
       "1672716        USA          'night, Mother (1986)  1986\n",
       "1672946        USA  ...And Justice for All (2014)  2014"
      ]
     },
     "execution_count": 489,
     "metadata": {},
     "output_type": "execute_result"
    }
   ],
   "source": [
    "numb_of_movies_by_country= (new_country\n",
    "                  .set_index(\"movieid\")\n",
    "                  .join(movies.set_index(\"movieid\"), \n",
    "                        how=\"left\")\n",
    "                 )\n",
    "\n",
    "numb_of_movies_by_country.head() #ülkeler ve çektikleri filmleri gördük"
   ]
  },
  {
   "cell_type": "code",
   "execution_count": 491,
   "metadata": {},
   "outputs": [
    {
     "data": {
      "text/plain": [
       "USA                               2500\n",
       "UK                                 368\n",
       "France                             275\n",
       "Canada                             125\n",
       "Germany                            104\n",
       "Australia                           67\n",
       "Italy                               59\n",
       "Japan                               53\n",
       "Ireland                             30\n",
       "Belgium                             29\n",
       "Hong Kong                           22\n",
       "China                               18\n",
       "Spain                               17\n",
       "Argentina                           13\n",
       "New Zealand                         12\n",
       "Mexico                              12\n",
       "Austria                             12\n",
       "Denmark                             11\n",
       "India                               10\n",
       "Brazil                               7\n",
       "Norway                               5\n",
       "South Africa                         5\n",
       "Czech Republic                       5\n",
       "Netherlands                          5\n",
       "Cuba                                 5\n",
       "Soviet Union                         5\n",
       "Iran                                 4\n",
       "Sweden                               4\n",
       "Poland                               3\n",
       "Switzerland                          3\n",
       "Bulgaria                             3\n",
       "Finland                              3\n",
       "West Germany                         3\n",
       "Taiwan                               3\n",
       "Hungary                              3\n",
       "Jamaica                              2\n",
       "Israel                               2\n",
       "Peru                                 2\n",
       "South Korea                          2\n",
       "Federal Republic of Yugoslavia       2\n",
       "Botswana                             2\n",
       "Philippines                          2\n",
       "Cameroon                             1\n",
       "Luxembourg                           1\n",
       "Senegal                              1\n",
       "Algeria                              1\n",
       "Aruba                                1\n",
       "Slovenia                             1\n",
       "Dominican Republic                   1\n",
       "Czechoslovakia                       1\n",
       "Kazakhstan                           1\n",
       "Chile                                1\n",
       "Republic of Macedonia                1\n",
       "Name: country, dtype: int64"
      ]
     },
     "execution_count": 491,
     "metadata": {},
     "output_type": "execute_result"
    }
   ],
   "source": [
    "numb_of_movies_by_country['country'].value_counts() #ülkelere göre çekilen film sayılarını görebiliriz.\n"
   ]
  },
  {
   "cell_type": "code",
   "execution_count": 342,
   "metadata": {},
   "outputs": [
    {
     "data": {
      "image/png": "[encoded data removed]",
      "text/plain": [
       "<Figure size 1500x1000 with 1 Axes>"
      ]
     },
     "metadata": {},
     "output_type": "display_data"
    }
   ],
   "source": [
    "plt.figure(figsize=(15,10))\n",
    "\n",
    "(numb_of_movies_by_country[\"country\"]\n",
    " .value_counts()\n",
    " .plot.barh()\n",
    " .set_title(\"Ülkelere göre çekilen film sayısı\"));"
   ]
  },
  {
   "cell_type": "code",
   "execution_count": 476,
   "metadata": {},
   "outputs": [
    {
     "data": {
      "text/html": [
       "<div>\n",
       "<style scoped>\n",
       "    .dataframe tbody tr th:only-of-type {\n",
       "        vertical-align: middle;\n",
       "    }\n",
       "\n",
       "    .dataframe tbody tr th {\n",
       "        vertical-align: top;\n",
       "    }\n",
       "\n",
       "    .dataframe thead th {\n",
       "        text-align: right;\n",
       "    }\n",
       "</style>\n",
       "<table border=\"1\" class=\"dataframe\">\n",
       "  <thead>\n",
       "    <tr style=\"text-align: right;\">\n",
       "      <th></th>\n",
       "      <th>movieid</th>\n",
       "      <th>country</th>\n",
       "    </tr>\n",
       "  </thead>\n",
       "  <tbody>\n",
       "    <tr>\n",
       "      <th>0</th>\n",
       "      <td>1672052</td>\n",
       "      <td>Australia</td>\n",
       "    </tr>\n",
       "    <tr>\n",
       "      <th>1</th>\n",
       "      <td>1672111</td>\n",
       "      <td>Australia</td>\n",
       "    </tr>\n",
       "    <tr>\n",
       "      <th>3</th>\n",
       "      <td>1672580</td>\n",
       "      <td>USA</td>\n",
       "    </tr>\n",
       "    <tr>\n",
       "      <th>4</th>\n",
       "      <td>1672716</td>\n",
       "      <td>USA</td>\n",
       "    </tr>\n",
       "    <tr>\n",
       "      <th>5</th>\n",
       "      <td>1672946</td>\n",
       "      <td>USA</td>\n",
       "    </tr>\n",
       "  </tbody>\n",
       "</table>\n",
       "</div>"
      ],
      "text/plain": [
       "   movieid    country\n",
       "0  1672052  Australia\n",
       "1  1672111  Australia\n",
       "3  1672580        USA\n",
       "4  1672716        USA\n",
       "5  1672946        USA"
      ]
     },
     "execution_count": 476,
     "metadata": {},
     "output_type": "execute_result"
    }
   ],
   "source": [
    "new_country = countries.drop_duplicates('movieid') #movieid si aynı olanları dropladık.\n",
    "new_country.head()"
   ]
  },
  {
   "cell_type": "code",
   "execution_count": 477,
   "metadata": {},
   "outputs": [
    {
     "data": {
      "text/html": [
       "<div>\n",
       "<style scoped>\n",
       "    .dataframe tbody tr th:only-of-type {\n",
       "        vertical-align: middle;\n",
       "    }\n",
       "\n",
       "    .dataframe tbody tr th {\n",
       "        vertical-align: top;\n",
       "    }\n",
       "\n",
       "    .dataframe thead th {\n",
       "        text-align: right;\n",
       "    }\n",
       "</style>\n",
       "<table border=\"1\" class=\"dataframe\">\n",
       "  <thead>\n",
       "    <tr style=\"text-align: right;\">\n",
       "      <th></th>\n",
       "      <th>movieid</th>\n",
       "      <th>genre</th>\n",
       "    </tr>\n",
       "  </thead>\n",
       "  <tbody>\n",
       "    <tr>\n",
       "      <th>0</th>\n",
       "      <td>1672052</td>\n",
       "      <td>Drama</td>\n",
       "    </tr>\n",
       "    <tr>\n",
       "      <th>3</th>\n",
       "      <td>1672111</td>\n",
       "      <td>Action</td>\n",
       "    </tr>\n",
       "    <tr>\n",
       "      <th>6</th>\n",
       "      <td>1672580</td>\n",
       "      <td>Comedy</td>\n",
       "    </tr>\n",
       "    <tr>\n",
       "      <th>8</th>\n",
       "      <td>1672716</td>\n",
       "      <td>Drama</td>\n",
       "    </tr>\n",
       "    <tr>\n",
       "      <th>9</th>\n",
       "      <td>1672946</td>\n",
       "      <td>Action</td>\n",
       "    </tr>\n",
       "  </tbody>\n",
       "</table>\n",
       "</div>"
      ],
      "text/plain": [
       "   movieid   genre\n",
       "0  1672052   Drama\n",
       "3  1672111  Action\n",
       "6  1672580  Comedy\n",
       "8  1672716   Drama\n",
       "9  1672946  Action"
      ]
     },
     "execution_count": 477,
     "metadata": {},
     "output_type": "execute_result"
    }
   ],
   "source": [
    "new_genres = genres.drop_duplicates('movieid') #movieid si aynı olanları dropladık.\n",
    "new_genres.head()"
   ]
  },
  {
   "cell_type": "code",
   "execution_count": 510,
   "metadata": {},
   "outputs": [
    {
     "data": {
      "text/html": [
       "<div>\n",
       "<style scoped>\n",
       "    .dataframe tbody tr th:only-of-type {\n",
       "        vertical-align: middle;\n",
       "    }\n",
       "\n",
       "    .dataframe tbody tr th {\n",
       "        vertical-align: top;\n",
       "    }\n",
       "\n",
       "    .dataframe thead th {\n",
       "        text-align: right;\n",
       "    }\n",
       "</style>\n",
       "<table border=\"1\" class=\"dataframe\">\n",
       "  <thead>\n",
       "    <tr style=\"text-align: right;\">\n",
       "      <th></th>\n",
       "      <th>country</th>\n",
       "      <th>genre</th>\n",
       "    </tr>\n",
       "    <tr>\n",
       "      <th>movieid</th>\n",
       "      <th></th>\n",
       "      <th></th>\n",
       "    </tr>\n",
       "  </thead>\n",
       "  <tbody>\n",
       "    <tr>\n",
       "      <th>1672052</th>\n",
       "      <td>Australia</td>\n",
       "      <td>Drama</td>\n",
       "    </tr>\n",
       "    <tr>\n",
       "      <th>1672111</th>\n",
       "      <td>Australia</td>\n",
       "      <td>Action</td>\n",
       "    </tr>\n",
       "    <tr>\n",
       "      <th>1672580</th>\n",
       "      <td>USA</td>\n",
       "      <td>Comedy</td>\n",
       "    </tr>\n",
       "    <tr>\n",
       "      <th>1672716</th>\n",
       "      <td>USA</td>\n",
       "      <td>Drama</td>\n",
       "    </tr>\n",
       "    <tr>\n",
       "      <th>1672946</th>\n",
       "      <td>USA</td>\n",
       "      <td>Action</td>\n",
       "    </tr>\n",
       "    <tr>\n",
       "      <th>1673647</th>\n",
       "      <td>France</td>\n",
       "      <td>Drama</td>\n",
       "    </tr>\n",
       "    <tr>\n",
       "      <th>1673658</th>\n",
       "      <td>USA</td>\n",
       "      <td>Comedy</td>\n",
       "    </tr>\n",
       "    <tr>\n",
       "      <th>1673848</th>\n",
       "      <td>USA</td>\n",
       "      <td>Comedy</td>\n",
       "    </tr>\n",
       "    <tr>\n",
       "      <th>1674388</th>\n",
       "      <td>USA</td>\n",
       "      <td>Adventure</td>\n",
       "    </tr>\n",
       "    <tr>\n",
       "      <th>1674737</th>\n",
       "      <td>USA</td>\n",
       "      <td>Drama</td>\n",
       "    </tr>\n",
       "    <tr>\n",
       "      <th>1677011</th>\n",
       "      <td>USA</td>\n",
       "      <td>Comedy</td>\n",
       "    </tr>\n",
       "    <tr>\n",
       "      <th>1677258</th>\n",
       "      <td>France</td>\n",
       "      <td>Comedy</td>\n",
       "    </tr>\n",
       "    <tr>\n",
       "      <th>1677346</th>\n",
       "      <td>USA</td>\n",
       "      <td>Biography</td>\n",
       "    </tr>\n",
       "    <tr>\n",
       "      <th>1677472</th>\n",
       "      <td>USA</td>\n",
       "      <td>Sci-Fi</td>\n",
       "    </tr>\n",
       "    <tr>\n",
       "      <th>1677516</th>\n",
       "      <td>USA</td>\n",
       "      <td>Comedy</td>\n",
       "    </tr>\n",
       "    <tr>\n",
       "      <th>1677631</th>\n",
       "      <td>UK</td>\n",
       "      <td>Adventure</td>\n",
       "    </tr>\n",
       "    <tr>\n",
       "      <th>1678036</th>\n",
       "      <td>USA</td>\n",
       "      <td>Sci-Fi</td>\n",
       "    </tr>\n",
       "    <tr>\n",
       "      <th>1678591</th>\n",
       "      <td>UK</td>\n",
       "      <td>Comedy</td>\n",
       "    </tr>\n",
       "    <tr>\n",
       "      <th>1679029</th>\n",
       "      <td>USA</td>\n",
       "      <td>Comedy</td>\n",
       "    </tr>\n",
       "    <tr>\n",
       "      <th>1679461</th>\n",
       "      <td>USA</td>\n",
       "      <td>Action</td>\n",
       "    </tr>\n",
       "  </tbody>\n",
       "</table>\n",
       "</div>"
      ],
      "text/plain": [
       "           country      genre\n",
       "movieid                      \n",
       "1672052  Australia      Drama\n",
       "1672111  Australia     Action\n",
       "1672580        USA     Comedy\n",
       "1672716        USA      Drama\n",
       "1672946        USA     Action\n",
       "1673647     France      Drama\n",
       "1673658        USA     Comedy\n",
       "1673848        USA     Comedy\n",
       "1674388        USA  Adventure\n",
       "1674737        USA      Drama\n",
       "1677011        USA     Comedy\n",
       "1677258     France     Comedy\n",
       "1677346        USA  Biography\n",
       "1677472        USA     Sci-Fi\n",
       "1677516        USA     Comedy\n",
       "1677631         UK  Adventure\n",
       "1678036        USA     Sci-Fi\n",
       "1678591         UK     Comedy\n",
       "1679029        USA     Comedy\n",
       "1679461        USA     Action"
      ]
     },
     "execution_count": 510,
     "metadata": {},
     "output_type": "execute_result"
    }
   ],
   "source": [
    "genres_by_country= (new_country\n",
    "                  .set_index(\"movieid\")\n",
    "                  .join(new_genres.set_index(\"movieid\"), \n",
    "                        how=\"left\")\n",
    "                 )\n",
    "\n",
    "genres_by_country.head(20) #ülkeler ve çektikleri film türlerini gördük"
   ]
  },
  {
   "cell_type": "code",
   "execution_count": 524,
   "metadata": {},
   "outputs": [
    {
     "data": {
      "text/html": [
       "<div>\n",
       "<style scoped>\n",
       "    .dataframe tbody tr th:only-of-type {\n",
       "        vertical-align: middle;\n",
       "    }\n",
       "\n",
       "    .dataframe tbody tr th {\n",
       "        vertical-align: top;\n",
       "    }\n",
       "\n",
       "    .dataframe thead th {\n",
       "        text-align: right;\n",
       "    }\n",
       "</style>\n",
       "<table border=\"1\" class=\"dataframe\">\n",
       "  <thead>\n",
       "    <tr style=\"text-align: right;\">\n",
       "      <th></th>\n",
       "      <th>country</th>\n",
       "      <th>genre</th>\n",
       "    </tr>\n",
       "    <tr>\n",
       "      <th>movieid</th>\n",
       "      <th></th>\n",
       "      <th></th>\n",
       "    </tr>\n",
       "  </thead>\n",
       "  <tbody>\n",
       "    <tr>\n",
       "      <th>1672052</th>\n",
       "      <td>Australia</td>\n",
       "      <td>Drama</td>\n",
       "    </tr>\n",
       "    <tr>\n",
       "      <th>1672111</th>\n",
       "      <td>Australia</td>\n",
       "      <td>Action</td>\n",
       "    </tr>\n",
       "    <tr>\n",
       "      <th>1672580</th>\n",
       "      <td>USA</td>\n",
       "      <td>Comedy</td>\n",
       "    </tr>\n",
       "    <tr>\n",
       "      <th>1672716</th>\n",
       "      <td>USA</td>\n",
       "      <td>Drama</td>\n",
       "    </tr>\n",
       "    <tr>\n",
       "      <th>1672946</th>\n",
       "      <td>USA</td>\n",
       "      <td>Action</td>\n",
       "    </tr>\n",
       "    <tr>\n",
       "      <th>1673647</th>\n",
       "      <td>France</td>\n",
       "      <td>Drama</td>\n",
       "    </tr>\n",
       "    <tr>\n",
       "      <th>1673658</th>\n",
       "      <td>USA</td>\n",
       "      <td>Comedy</td>\n",
       "    </tr>\n",
       "    <tr>\n",
       "      <th>1673848</th>\n",
       "      <td>USA</td>\n",
       "      <td>Comedy</td>\n",
       "    </tr>\n",
       "    <tr>\n",
       "      <th>1674388</th>\n",
       "      <td>USA</td>\n",
       "      <td>Adventure</td>\n",
       "    </tr>\n",
       "    <tr>\n",
       "      <th>1674737</th>\n",
       "      <td>USA</td>\n",
       "      <td>Drama</td>\n",
       "    </tr>\n",
       "    <tr>\n",
       "      <th>1677011</th>\n",
       "      <td>USA</td>\n",
       "      <td>Comedy</td>\n",
       "    </tr>\n",
       "    <tr>\n",
       "      <th>1677258</th>\n",
       "      <td>France</td>\n",
       "      <td>Comedy</td>\n",
       "    </tr>\n",
       "    <tr>\n",
       "      <th>1677346</th>\n",
       "      <td>USA</td>\n",
       "      <td>Biography</td>\n",
       "    </tr>\n",
       "    <tr>\n",
       "      <th>1677472</th>\n",
       "      <td>USA</td>\n",
       "      <td>Sci-Fi</td>\n",
       "    </tr>\n",
       "    <tr>\n",
       "      <th>1677516</th>\n",
       "      <td>USA</td>\n",
       "      <td>Comedy</td>\n",
       "    </tr>\n",
       "    <tr>\n",
       "      <th>1677631</th>\n",
       "      <td>UK</td>\n",
       "      <td>Adventure</td>\n",
       "    </tr>\n",
       "    <tr>\n",
       "      <th>1678036</th>\n",
       "      <td>USA</td>\n",
       "      <td>Sci-Fi</td>\n",
       "    </tr>\n",
       "    <tr>\n",
       "      <th>1678591</th>\n",
       "      <td>UK</td>\n",
       "      <td>Comedy</td>\n",
       "    </tr>\n",
       "    <tr>\n",
       "      <th>1679029</th>\n",
       "      <td>USA</td>\n",
       "      <td>Comedy</td>\n",
       "    </tr>\n",
       "    <tr>\n",
       "      <th>1679461</th>\n",
       "      <td>USA</td>\n",
       "      <td>Action</td>\n",
       "    </tr>\n",
       "    <tr>\n",
       "      <th>1679507</th>\n",
       "      <td>USA</td>\n",
       "      <td>Comedy</td>\n",
       "    </tr>\n",
       "    <tr>\n",
       "      <th>1679920</th>\n",
       "      <td>South Korea</td>\n",
       "      <td>Horror</td>\n",
       "    </tr>\n",
       "    <tr>\n",
       "      <th>1681633</th>\n",
       "      <td>USA</td>\n",
       "      <td>Crime</td>\n",
       "    </tr>\n",
       "    <tr>\n",
       "      <th>1681655</th>\n",
       "      <td>USA</td>\n",
       "      <td>Drama</td>\n",
       "    </tr>\n",
       "    <tr>\n",
       "      <th>1682630</th>\n",
       "      <td>USA</td>\n",
       "      <td>Crime</td>\n",
       "    </tr>\n",
       "    <tr>\n",
       "      <th>1682657</th>\n",
       "      <td>UK</td>\n",
       "      <td>Comedy</td>\n",
       "    </tr>\n",
       "    <tr>\n",
       "      <th>1682692</th>\n",
       "      <td>USA</td>\n",
       "      <td>Biography</td>\n",
       "    </tr>\n",
       "    <tr>\n",
       "      <th>1682746</th>\n",
       "      <td>Germany</td>\n",
       "      <td>Comedy</td>\n",
       "    </tr>\n",
       "    <tr>\n",
       "      <th>1682922</th>\n",
       "      <td>Germany</td>\n",
       "      <td>Crime</td>\n",
       "    </tr>\n",
       "    <tr>\n",
       "      <th>1684201</th>\n",
       "      <td>Canada</td>\n",
       "      <td>Crime</td>\n",
       "    </tr>\n",
       "  </tbody>\n",
       "</table>\n",
       "</div>"
      ],
      "text/plain": [
       "             country      genre\n",
       "movieid                        \n",
       "1672052    Australia      Drama\n",
       "1672111    Australia     Action\n",
       "1672580          USA     Comedy\n",
       "1672716          USA      Drama\n",
       "1672946          USA     Action\n",
       "1673647       France      Drama\n",
       "1673658          USA     Comedy\n",
       "1673848          USA     Comedy\n",
       "1674388          USA  Adventure\n",
       "1674737          USA      Drama\n",
       "1677011          USA     Comedy\n",
       "1677258       France     Comedy\n",
       "1677346          USA  Biography\n",
       "1677472          USA     Sci-Fi\n",
       "1677516          USA     Comedy\n",
       "1677631           UK  Adventure\n",
       "1678036          USA     Sci-Fi\n",
       "1678591           UK     Comedy\n",
       "1679029          USA     Comedy\n",
       "1679461          USA     Action\n",
       "1679507          USA     Comedy\n",
       "1679920  South Korea     Horror\n",
       "1681633          USA      Crime\n",
       "1681655          USA      Drama\n",
       "1682630          USA      Crime\n",
       "1682657           UK     Comedy\n",
       "1682692          USA  Biography\n",
       "1682746      Germany     Comedy\n",
       "1682922      Germany      Crime\n",
       "1684201       Canada      Crime"
      ]
     },
     "execution_count": 524,
     "metadata": {},
     "output_type": "execute_result"
    }
   ],
   "source": [
    "genres_by_country[['country','genre']].head(30)"
   ]
  }
 ],
 "metadata": {
  "kernelspec": {
   "display_name": "Python 3.9.1 64-bit",
   "language": "python",
   "name": "python3"
  },
  "language_info": {
   "codemirror_mode": {
    "name": "ipython",
    "version": 3
   },
   "file_extension": ".py",
   "mimetype": "text/x-python",
   "name": "python",
   "nbconvert_exporter": "python",
   "pygments_lexer": "ipython3",
   "version": "3.9.1"
  },
  "orig_nbformat": 4,
  "vscode": {
   "interpreter": {
    "hash": "aee8b7b246df8f9039afb4144a1f6fd8d2ca17a180786b69acc140d282b71a49"
   }
  }
 },
 "nbformat": 4,
 "nbformat_minor": 2
}
